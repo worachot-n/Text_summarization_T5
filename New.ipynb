{
 "cells": [
  {
   "cell_type": "markdown",
   "metadata": {},
   "source": [
    "# Test"
   ]
  }
 ],
 "metadata": {
  "interpreter": {
   "hash": "e4bc1cc3147e52c0cf995f94e8d5230a64ba22a90fce1321f22e7f8c5a469294"
  },
  "kernelspec": {
   "display_name": "Python 3.8.12 ('NLU_env')",
   "language": "python",
   "name": "python3"
  },
  "language_info": {
   "name": "python",
   "version": "3.8.12"
  },
  "orig_nbformat": 4
 },
 "nbformat": 4,
 "nbformat_minor": 2
}
