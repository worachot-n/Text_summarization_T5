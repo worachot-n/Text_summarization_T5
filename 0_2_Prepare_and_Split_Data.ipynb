{
 "cells": [
  {
   "cell_type": "markdown",
   "metadata": {},
   "source": [
    "## Import library"
   ]
  },
  {
   "cell_type": "code",
   "execution_count": 44,
   "metadata": {},
   "outputs": [],
   "source": [
    "import numpy as np\n",
    "import pandas as pd\n",
    "import matplotlib.pyplot as plt\n",
    "import seaborn as sns\n",
    "import os"
   ]
  },
  {
   "cell_type": "markdown",
   "metadata": {},
   "source": [
    "## Read data"
   ]
  },
  {
   "cell_type": "code",
   "execution_count": 56,
   "metadata": {},
   "outputs": [],
   "source": [
    "# Path_art = 'BBC News Summary/News Articles'\n",
    "# Path_sum = 'BBC News Summary/Summaries'\n",
    "# Path_art_cat = []\n",
    "# Path_sum_cat = []\n",
    "\n",
    "# dir_list = os.listdir(Path_art)\n",
    "# for dir in dir_list:\n",
    "#     Path_art_cat.append(Path_art+'/'+dir)\n",
    "\n",
    "# dir_list = os.listdir(Path_sum)\n",
    "# for dir in dir_list:\n",
    "#     Path_sum_cat.append(Path_sum+'/'+dir)"
   ]
  },
  {
   "cell_type": "code",
   "execution_count": null,
   "metadata": {},
   "outputs": [],
   "source": []
  },
  {
   "cell_type": "code",
   "execution_count": 45,
   "metadata": {},
   "outputs": [
    {
     "data": {
      "text/html": [
       "<div>\n",
       "<style scoped>\n",
       "    .dataframe tbody tr th:only-of-type {\n",
       "        vertical-align: middle;\n",
       "    }\n",
       "\n",
       "    .dataframe tbody tr th {\n",
       "        vertical-align: top;\n",
       "    }\n",
       "\n",
       "    .dataframe thead th {\n",
       "        text-align: right;\n",
       "    }\n",
       "</style>\n",
       "<table border=\"1\" class=\"dataframe\">\n",
       "  <thead>\n",
       "    <tr style=\"text-align: right;\">\n",
       "      <th></th>\n",
       "      <th>Unnamed: 0</th>\n",
       "      <th>articles</th>\n",
       "      <th>summaries</th>\n",
       "      <th>categories</th>\n",
       "    </tr>\n",
       "  </thead>\n",
       "  <tbody>\n",
       "    <tr>\n",
       "      <th>0</th>\n",
       "      <td>0</td>\n",
       "      <td>Escaped prisoner report ordered\\r\\n\\r\\nFirst M...</td>\n",
       "      <td>He held each of the major offices of chancello...</td>\n",
       "      <td>politics</td>\n",
       "    </tr>\n",
       "    <tr>\n",
       "      <th>1</th>\n",
       "      <td>1</td>\n",
       "      <td>Hospital suspends 'no Welsh' plan\\r\\n\\r\\nAn En...</td>\n",
       "      <td>Tony Blair is likely to name 5 May as election...</td>\n",
       "      <td>politics</td>\n",
       "    </tr>\n",
       "    <tr>\n",
       "      <th>2</th>\n",
       "      <td>2</td>\n",
       "      <td>'No-one can define new hunt ban'\\r\\n\\r\\nThe ne...</td>\n",
       "      <td>Tory co-chairman Liam Fox has opened proceedin...</td>\n",
       "      <td>politics</td>\n",
       "    </tr>\n",
       "    <tr>\n",
       "      <th>3</th>\n",
       "      <td>3</td>\n",
       "      <td>Police urge pub closure power\\r\\n\\r\\nNew power...</td>\n",
       "      <td>Labour election coordinator Alan Milburn claim...</td>\n",
       "      <td>politics</td>\n",
       "    </tr>\n",
       "    <tr>\n",
       "      <th>4</th>\n",
       "      <td>4</td>\n",
       "      <td>Blunkett tells of love and pain\\r\\n\\r\\nDavid B...</td>\n",
       "      <td>In a statement, he said abortion was a \"very k...</td>\n",
       "      <td>politics</td>\n",
       "    </tr>\n",
       "  </tbody>\n",
       "</table>\n",
       "</div>"
      ],
      "text/plain": [
       "   Unnamed: 0                                           articles  \\\n",
       "0           0  Escaped prisoner report ordered\\r\\n\\r\\nFirst M...   \n",
       "1           1  Hospital suspends 'no Welsh' plan\\r\\n\\r\\nAn En...   \n",
       "2           2  'No-one can define new hunt ban'\\r\\n\\r\\nThe ne...   \n",
       "3           3  Police urge pub closure power\\r\\n\\r\\nNew power...   \n",
       "4           4  Blunkett tells of love and pain\\r\\n\\r\\nDavid B...   \n",
       "\n",
       "                                           summaries categories  \n",
       "0  He held each of the major offices of chancello...   politics  \n",
       "1  Tony Blair is likely to name 5 May as election...   politics  \n",
       "2  Tory co-chairman Liam Fox has opened proceedin...   politics  \n",
       "3  Labour election coordinator Alan Milburn claim...   politics  \n",
       "4  In a statement, he said abortion was a \"very k...   politics  "
      ]
     },
     "execution_count": 45,
     "metadata": {},
     "output_type": "execute_result"
    }
   ],
   "source": [
    "df = pd.read_csv(\"BBC_News_Summary.csv\")\n",
    "df.head()"
   ]
  },
  {
   "cell_type": "markdown",
   "metadata": {},
   "source": [
    "## Remove '\\r\\n'"
   ]
  },
  {
   "cell_type": "code",
   "execution_count": 46,
   "metadata": {},
   "outputs": [
    {
     "data": {
      "text/html": [
       "<div>\n",
       "<style scoped>\n",
       "    .dataframe tbody tr th:only-of-type {\n",
       "        vertical-align: middle;\n",
       "    }\n",
       "\n",
       "    .dataframe tbody tr th {\n",
       "        vertical-align: top;\n",
       "    }\n",
       "\n",
       "    .dataframe thead th {\n",
       "        text-align: right;\n",
       "    }\n",
       "</style>\n",
       "<table border=\"1\" class=\"dataframe\">\n",
       "  <thead>\n",
       "    <tr style=\"text-align: right;\">\n",
       "      <th></th>\n",
       "      <th>Unnamed: 0</th>\n",
       "      <th>articles</th>\n",
       "      <th>summaries</th>\n",
       "      <th>categories</th>\n",
       "    </tr>\n",
       "  </thead>\n",
       "  <tbody>\n",
       "    <tr>\n",
       "      <th>0</th>\n",
       "      <td>0</td>\n",
       "      <td>Escaped prisoner report ordered First Minister...</td>\n",
       "      <td>He held each of the major offices of chancello...</td>\n",
       "      <td>politics</td>\n",
       "    </tr>\n",
       "    <tr>\n",
       "      <th>1</th>\n",
       "      <td>1</td>\n",
       "      <td>Hospital suspends 'no Welsh' plan An English h...</td>\n",
       "      <td>Tony Blair is likely to name 5 May as election...</td>\n",
       "      <td>politics</td>\n",
       "    </tr>\n",
       "    <tr>\n",
       "      <th>2</th>\n",
       "      <td>2</td>\n",
       "      <td>'No-one can define new hunt ban' The new law b...</td>\n",
       "      <td>Tory co-chairman Liam Fox has opened proceedin...</td>\n",
       "      <td>politics</td>\n",
       "    </tr>\n",
       "    <tr>\n",
       "      <th>3</th>\n",
       "      <td>3</td>\n",
       "      <td>Police urge pub closure power New powers are n...</td>\n",
       "      <td>Labour election coordinator Alan Milburn claim...</td>\n",
       "      <td>politics</td>\n",
       "    </tr>\n",
       "    <tr>\n",
       "      <th>4</th>\n",
       "      <td>4</td>\n",
       "      <td>Blunkett tells of love and pain David Blunkett...</td>\n",
       "      <td>In a statement, he said abortion was a \"very k...</td>\n",
       "      <td>politics</td>\n",
       "    </tr>\n",
       "  </tbody>\n",
       "</table>\n",
       "</div>"
      ],
      "text/plain": [
       "   Unnamed: 0                                           articles  \\\n",
       "0           0  Escaped prisoner report ordered First Minister...   \n",
       "1           1  Hospital suspends 'no Welsh' plan An English h...   \n",
       "2           2  'No-one can define new hunt ban' The new law b...   \n",
       "3           3  Police urge pub closure power New powers are n...   \n",
       "4           4  Blunkett tells of love and pain David Blunkett...   \n",
       "\n",
       "                                           summaries categories  \n",
       "0  He held each of the major offices of chancello...   politics  \n",
       "1  Tony Blair is likely to name 5 May as election...   politics  \n",
       "2  Tory co-chairman Liam Fox has opened proceedin...   politics  \n",
       "3  Labour election coordinator Alan Milburn claim...   politics  \n",
       "4  In a statement, he said abortion was a \"very k...   politics  "
      ]
     },
     "execution_count": 46,
     "metadata": {},
     "output_type": "execute_result"
    }
   ],
   "source": [
    "df = df.replace(r'\\r\\n\\r\\n',' ', regex=True)\n",
    "df.head()"
   ]
  },
  {
   "cell_type": "code",
   "execution_count": 47,
   "metadata": {},
   "outputs": [
    {
     "data": {
      "image/png": "[encoded data removed]",
      "text/plain": [
       "<Figure size 432x288 with 1 Axes>"
      ]
     },
     "metadata": {
      "needs_background": "light"
     },
     "output_type": "display_data"
    }
   ],
   "source": [
    "plt.figure(figsize=(6,4))\n",
    "\n",
    "category_sizes = df.groupby('categories').size()\n",
    "sns.barplot(x=category_sizes.index, y= category_sizes)\n",
    "min_val = category_sizes.min()\n",
    "plt.axhline(y=min_val,color='red',ls='--', lw=1)\n",
    "plt.axhline(y=int(min_val*0.8),color='blue',ls='--', lw=1)\n",
    "plt.show()"
   ]
  },
  {
   "cell_type": "code",
   "execution_count": 48,
   "metadata": {},
   "outputs": [],
   "source": [
    "#-- get length of each article and summary for analysis\n",
    "df['articles_length'] = df['articles'].apply(lambda x : len(x.split()))\n",
    "df['summaries_length'] = df['summaries'].apply(lambda x : len(x.split()))"
   ]
  },
  {
   "cell_type": "code",
   "execution_count": 49,
   "metadata": {},
   "outputs": [
    {
     "name": "stdout",
     "output_type": "stream",
     "text": [
      "<class 'pandas.core.frame.DataFrame'>\n"
     ]
    },
    {
     "data": {
      "text/html": [
       "<div>\n",
       "<style scoped>\n",
       "    .dataframe tbody tr th:only-of-type {\n",
       "        vertical-align: middle;\n",
       "    }\n",
       "\n",
       "    .dataframe tbody tr th {\n",
       "        vertical-align: top;\n",
       "    }\n",
       "\n",
       "    .dataframe thead tr th {\n",
       "        text-align: left;\n",
       "    }\n",
       "\n",
       "    .dataframe thead tr:last-of-type th {\n",
       "        text-align: right;\n",
       "    }\n",
       "</style>\n",
       "<table border=\"1\" class=\"dataframe\">\n",
       "  <thead>\n",
       "    <tr>\n",
       "      <th></th>\n",
       "      <th colspan=\"2\" halign=\"left\">articles_length</th>\n",
       "      <th colspan=\"2\" halign=\"left\">summaries_length</th>\n",
       "    </tr>\n",
       "    <tr>\n",
       "      <th></th>\n",
       "      <th>mean</th>\n",
       "      <th>max</th>\n",
       "      <th>mean</th>\n",
       "      <th>max</th>\n",
       "    </tr>\n",
       "    <tr>\n",
       "      <th>categories</th>\n",
       "      <th></th>\n",
       "      <th></th>\n",
       "      <th></th>\n",
       "      <th></th>\n",
       "    </tr>\n",
       "  </thead>\n",
       "  <tbody>\n",
       "    <tr>\n",
       "      <th>business</th>\n",
       "      <td>328.880392</td>\n",
       "      <td>891</td>\n",
       "      <td>139.929412</td>\n",
       "      <td>403</td>\n",
       "    </tr>\n",
       "    <tr>\n",
       "      <th>entertainment</th>\n",
       "      <td>330.621762</td>\n",
       "      <td>3482</td>\n",
       "      <td>144.049223</td>\n",
       "      <td>1706</td>\n",
       "    </tr>\n",
       "    <tr>\n",
       "      <th>politics</th>\n",
       "      <td>453.973621</td>\n",
       "      <td>4432</td>\n",
       "      <td>195.709832</td>\n",
       "      <td>2073</td>\n",
       "    </tr>\n",
       "    <tr>\n",
       "      <th>sport</th>\n",
       "      <td>329.262231</td>\n",
       "      <td>1662</td>\n",
       "      <td>143.187867</td>\n",
       "      <td>659</td>\n",
       "    </tr>\n",
       "    <tr>\n",
       "      <th>tech</th>\n",
       "      <td>502.695761</td>\n",
       "      <td>2969</td>\n",
       "      <td>213.837905</td>\n",
       "      <td>1430</td>\n",
       "    </tr>\n",
       "  </tbody>\n",
       "</table>\n",
       "</div>"
      ],
      "text/plain": [
       "              articles_length       summaries_length      \n",
       "                         mean   max             mean   max\n",
       "categories                                                \n",
       "business           328.880392   891       139.929412   403\n",
       "entertainment      330.621762  3482       144.049223  1706\n",
       "politics           453.973621  4432       195.709832  2073\n",
       "sport              329.262231  1662       143.187867   659\n",
       "tech               502.695761  2969       213.837905  1430"
      ]
     },
     "execution_count": 49,
     "metadata": {},
     "output_type": "execute_result"
    }
   ],
   "source": [
    "category_length = df.groupby('categories',0).agg(\n",
    "    {'articles_length':['mean', 'max'],'summaries_length':['mean', 'max']})\n",
    "print(type(category_length))\n",
    "category_length"
   ]
  },
  {
   "cell_type": "code",
   "execution_count": 50,
   "metadata": {},
   "outputs": [
    {
     "data": {
      "text/plain": [
       "<matplotlib.lines.Line2D at 0x27fe0ce43d0>"
      ]
     },
     "execution_count": 50,
     "metadata": {},
     "output_type": "execute_result"
    },
    {
     "data": {
      "image/png": "[encoded data removed]",
      "text/plain": [
       "<Figure size 971.875x576 with 1 Axes>"
      ]
     },
     "metadata": {
      "needs_background": "light"
     },
     "output_type": "display_data"
    }
   ],
   "source": [
    "sns.displot(\n",
    "    data = df, \n",
    "    x = 'summaries_length', \n",
    "    kind = \"kde\", \n",
    "    color = 'darkblue', \n",
    "    hue = \"categories\",\n",
    "    height = 8,\n",
    "    aspect = 1.5\n",
    "    )\n",
    "\n",
    "plt.axvline(x=df.summaries_length.mean(),\n",
    "            color='blue',\n",
    "            ls='--', \n",
    "            lw=1)"
   ]
  },
  {
   "cell_type": "code",
   "execution_count": 51,
   "metadata": {},
   "outputs": [
    {
     "data": {
      "text/html": [
       "<div>\n",
       "<style scoped>\n",
       "    .dataframe tbody tr th:only-of-type {\n",
       "        vertical-align: middle;\n",
       "    }\n",
       "\n",
       "    .dataframe tbody tr th {\n",
       "        vertical-align: top;\n",
       "    }\n",
       "\n",
       "    .dataframe thead th {\n",
       "        text-align: right;\n",
       "    }\n",
       "</style>\n",
       "<table border=\"1\" class=\"dataframe\">\n",
       "  <thead>\n",
       "    <tr style=\"text-align: right;\">\n",
       "      <th></th>\n",
       "      <th>Unnamed: 0</th>\n",
       "      <th>articles</th>\n",
       "      <th>summaries</th>\n",
       "      <th>categories</th>\n",
       "      <th>articles_length</th>\n",
       "      <th>summaries_length</th>\n",
       "    </tr>\n",
       "  </thead>\n",
       "  <tbody>\n",
       "    <tr>\n",
       "      <th>1452</th>\n",
       "      <td>1452</td>\n",
       "      <td>Rap feud in 50 Cent's G-Unit crew US rap star ...</td>\n",
       "      <td>Angels is a great song, but not the best song ...</td>\n",
       "      <td>entertainment</td>\n",
       "      <td>449</td>\n",
       "      <td>1706</td>\n",
       "    </tr>\n",
       "  </tbody>\n",
       "</table>\n",
       "</div>"
      ],
      "text/plain": [
       "      Unnamed: 0                                           articles  \\\n",
       "1452        1452  Rap feud in 50 Cent's G-Unit crew US rap star ...   \n",
       "\n",
       "                                              summaries     categories  \\\n",
       "1452  Angels is a great song, but not the best song ...  entertainment   \n",
       "\n",
       "      articles_length  summaries_length  \n",
       "1452              449              1706  "
      ]
     },
     "execution_count": 51,
     "metadata": {},
     "output_type": "execute_result"
    }
   ],
   "source": [
    "df[df['summaries_length']==1706]"
   ]
  },
  {
   "cell_type": "code",
   "execution_count": 39,
   "metadata": {},
   "outputs": [
    {
     "data": {
      "text/html": [
       "<div>\n",
       "<style scoped>\n",
       "    .dataframe tbody tr th:only-of-type {\n",
       "        vertical-align: middle;\n",
       "    }\n",
       "\n",
       "    .dataframe tbody tr th {\n",
       "        vertical-align: top;\n",
       "    }\n",
       "\n",
       "    .dataframe thead th {\n",
       "        text-align: right;\n",
       "    }\n",
       "</style>\n",
       "<table border=\"1\" class=\"dataframe\">\n",
       "  <thead>\n",
       "    <tr style=\"text-align: right;\">\n",
       "      <th></th>\n",
       "      <th>Unnamed: 0</th>\n",
       "      <th>articles</th>\n",
       "      <th>summaries</th>\n",
       "      <th>categories</th>\n",
       "      <th>articles_length</th>\n",
       "      <th>summaries_length</th>\n",
       "    </tr>\n",
       "  </thead>\n",
       "  <tbody>\n",
       "    <tr>\n",
       "      <th>1</th>\n",
       "      <td>1</td>\n",
       "      <td>Hospital suspends 'no Welsh' plan An English h...</td>\n",
       "      <td>Tony Blair is likely to name 5 May as election...</td>\n",
       "      <td>politics</td>\n",
       "      <td>461</td>\n",
       "      <td>126</td>\n",
       "    </tr>\n",
       "    <tr>\n",
       "      <th>2</th>\n",
       "      <td>2</td>\n",
       "      <td>'No-one can define new hunt ban' The new law b...</td>\n",
       "      <td>Tory co-chairman Liam Fox has opened proceedin...</td>\n",
       "      <td>politics</td>\n",
       "      <td>426</td>\n",
       "      <td>124</td>\n",
       "    </tr>\n",
       "    <tr>\n",
       "      <th>3</th>\n",
       "      <td>3</td>\n",
       "      <td>Police urge pub closure power New powers are n...</td>\n",
       "      <td>Labour election coordinator Alan Milburn claim...</td>\n",
       "      <td>politics</td>\n",
       "      <td>507</td>\n",
       "      <td>120</td>\n",
       "    </tr>\n",
       "    <tr>\n",
       "      <th>4</th>\n",
       "      <td>4</td>\n",
       "      <td>Blunkett tells of love and pain David Blunkett...</td>\n",
       "      <td>In a statement, he said abortion was a \"very k...</td>\n",
       "      <td>politics</td>\n",
       "      <td>384</td>\n",
       "      <td>233</td>\n",
       "    </tr>\n",
       "    <tr>\n",
       "      <th>6</th>\n",
       "      <td>6</td>\n",
       "      <td>Tories pledge free sports lessons Children wou...</td>\n",
       "      <td>But according to the BBC poll, 61% said the is...</td>\n",
       "      <td>politics</td>\n",
       "      <td>256</td>\n",
       "      <td>178</td>\n",
       "    </tr>\n",
       "  </tbody>\n",
       "</table>\n",
       "</div>"
      ],
      "text/plain": [
       "   Unnamed: 0                                           articles  \\\n",
       "1           1  Hospital suspends 'no Welsh' plan An English h...   \n",
       "2           2  'No-one can define new hunt ban' The new law b...   \n",
       "3           3  Police urge pub closure power New powers are n...   \n",
       "4           4  Blunkett tells of love and pain David Blunkett...   \n",
       "6           6  Tories pledge free sports lessons Children wou...   \n",
       "\n",
       "                                           summaries categories  \\\n",
       "1  Tony Blair is likely to name 5 May as election...   politics   \n",
       "2  Tory co-chairman Liam Fox has opened proceedin...   politics   \n",
       "3  Labour election coordinator Alan Milburn claim...   politics   \n",
       "4  In a statement, he said abortion was a \"very k...   politics   \n",
       "6  But according to the BBC poll, 61% said the is...   politics   \n",
       "\n",
       "   articles_length  summaries_length  \n",
       "1              461               126  \n",
       "2              426               124  \n",
       "3              507               120  \n",
       "4              384               233  \n",
       "6              256               178  "
      ]
     },
     "execution_count": 39,
     "metadata": {},
     "output_type": "execute_result"
    }
   ],
   "source": [
    "df_filter = df[df['articles_length']<=512]\n",
    "df_filter.head()"
   ]
  },
  {
   "cell_type": "code",
   "execution_count": 40,
   "metadata": {},
   "outputs": [
    {
     "name": "stdout",
     "output_type": "stream",
     "text": [
      "<class 'pandas.core.frame.DataFrame'>\n"
     ]
    },
    {
     "data": {
      "text/html": [
       "<div>\n",
       "<style scoped>\n",
       "    .dataframe tbody tr th:only-of-type {\n",
       "        vertical-align: middle;\n",
       "    }\n",
       "\n",
       "    .dataframe tbody tr th {\n",
       "        vertical-align: top;\n",
       "    }\n",
       "\n",
       "    .dataframe thead tr th {\n",
       "        text-align: left;\n",
       "    }\n",
       "\n",
       "    .dataframe thead tr:last-of-type th {\n",
       "        text-align: right;\n",
       "    }\n",
       "</style>\n",
       "<table border=\"1\" class=\"dataframe\">\n",
       "  <thead>\n",
       "    <tr>\n",
       "      <th></th>\n",
       "      <th colspan=\"2\" halign=\"left\">articles_length</th>\n",
       "      <th colspan=\"2\" halign=\"left\">summaries_length</th>\n",
       "    </tr>\n",
       "    <tr>\n",
       "      <th></th>\n",
       "      <th>mean</th>\n",
       "      <th>max</th>\n",
       "      <th>mean</th>\n",
       "      <th>max</th>\n",
       "    </tr>\n",
       "    <tr>\n",
       "      <th>categories</th>\n",
       "      <th></th>\n",
       "      <th></th>\n",
       "      <th></th>\n",
       "      <th></th>\n",
       "    </tr>\n",
       "  </thead>\n",
       "  <tbody>\n",
       "    <tr>\n",
       "      <th>business</th>\n",
       "      <td>299.433761</td>\n",
       "      <td>505</td>\n",
       "      <td>139.405983</td>\n",
       "      <td>403</td>\n",
       "    </tr>\n",
       "    <tr>\n",
       "      <th>entertainment</th>\n",
       "      <td>275.052023</td>\n",
       "      <td>511</td>\n",
       "      <td>142.687861</td>\n",
       "      <td>1706</td>\n",
       "    </tr>\n",
       "    <tr>\n",
       "      <th>politics</th>\n",
       "      <td>361.431973</td>\n",
       "      <td>512</td>\n",
       "      <td>200.068027</td>\n",
       "      <td>2073</td>\n",
       "    </tr>\n",
       "    <tr>\n",
       "      <th>sport</th>\n",
       "      <td>277.400000</td>\n",
       "      <td>511</td>\n",
       "      <td>143.257778</td>\n",
       "      <td>659</td>\n",
       "    </tr>\n",
       "    <tr>\n",
       "      <th>tech</th>\n",
       "      <td>364.202429</td>\n",
       "      <td>511</td>\n",
       "      <td>214.663968</td>\n",
       "      <td>1430</td>\n",
       "    </tr>\n",
       "  </tbody>\n",
       "</table>\n",
       "</div>"
      ],
      "text/plain": [
       "              articles_length      summaries_length      \n",
       "                         mean  max             mean   max\n",
       "categories                                               \n",
       "business           299.433761  505       139.405983   403\n",
       "entertainment      275.052023  511       142.687861  1706\n",
       "politics           361.431973  512       200.068027  2073\n",
       "sport              277.400000  511       143.257778   659\n",
       "tech               364.202429  511       214.663968  1430"
      ]
     },
     "execution_count": 40,
     "metadata": {},
     "output_type": "execute_result"
    }
   ],
   "source": [
    "category_length = df_filter.groupby('categories',0).agg(\n",
    "    {'articles_length':['mean', 'max'],'summaries_length':['mean', 'max']})\n",
    "print(type(category_length))\n",
    "category_length"
   ]
  },
  {
   "cell_type": "code",
   "execution_count": 41,
   "metadata": {},
   "outputs": [
    {
     "data": {
      "text/plain": [
       "<seaborn.axisgrid.FacetGrid at 0x27fde7d0b50>"
      ]
     },
     "execution_count": 41,
     "metadata": {},
     "output_type": "execute_result"
    },
    {
     "data": {
      "image/png": "[encoded data removed]",
      "text/plain": [
       "<Figure size 971.875x576 with 1 Axes>"
      ]
     },
     "metadata": {
      "needs_background": "light"
     },
     "output_type": "display_data"
    }
   ],
   "source": [
    "sns.displot(\n",
    "    data = df_filter, \n",
    "    x = 'summaries_length', \n",
    "    kind = \"kde\", \n",
    "    color = 'darkblue', \n",
    "    hue = \"categories\",\n",
    "    height = 8,\n",
    "    aspect = 1.5\n",
    "    )"
   ]
  },
  {
   "cell_type": "code",
   "execution_count": 42,
   "metadata": {},
   "outputs": [
    {
     "data": {
      "text/html": [
       "<div>\n",
       "<style scoped>\n",
       "    .dataframe tbody tr th:only-of-type {\n",
       "        vertical-align: middle;\n",
       "    }\n",
       "\n",
       "    .dataframe tbody tr th {\n",
       "        vertical-align: top;\n",
       "    }\n",
       "\n",
       "    .dataframe thead th {\n",
       "        text-align: right;\n",
       "    }\n",
       "</style>\n",
       "<table border=\"1\" class=\"dataframe\">\n",
       "  <thead>\n",
       "    <tr style=\"text-align: right;\">\n",
       "      <th></th>\n",
       "      <th>Unnamed: 0</th>\n",
       "      <th>articles</th>\n",
       "      <th>summaries</th>\n",
       "      <th>categories</th>\n",
       "      <th>articles_length</th>\n",
       "      <th>summaries_length</th>\n",
       "    </tr>\n",
       "  </thead>\n",
       "  <tbody>\n",
       "    <tr>\n",
       "      <th>1452</th>\n",
       "      <td>1452</td>\n",
       "      <td>Rap feud in 50 Cent's G-Unit crew US rap star ...</td>\n",
       "      <td>Angels is a great song, but not the best song ...</td>\n",
       "      <td>entertainment</td>\n",
       "      <td>449</td>\n",
       "      <td>1706</td>\n",
       "    </tr>\n",
       "  </tbody>\n",
       "</table>\n",
       "</div>"
      ],
      "text/plain": [
       "      Unnamed: 0                                           articles  \\\n",
       "1452        1452  Rap feud in 50 Cent's G-Unit crew US rap star ...   \n",
       "\n",
       "                                              summaries     categories  \\\n",
       "1452  Angels is a great song, but not the best song ...  entertainment   \n",
       "\n",
       "      articles_length  summaries_length  \n",
       "1452              449              1706  "
      ]
     },
     "execution_count": 42,
     "metadata": {},
     "output_type": "execute_result"
    }
   ],
   "source": [
    "df_filter[df_filter['summaries_length']==1706]"
   ]
  },
  {
   "cell_type": "code",
   "execution_count": 43,
   "metadata": {},
   "outputs": [
    {
     "data": {
      "text/html": [
       "<div>\n",
       "<style scoped>\n",
       "    .dataframe tbody tr th:only-of-type {\n",
       "        vertical-align: middle;\n",
       "    }\n",
       "\n",
       "    .dataframe tbody tr th {\n",
       "        vertical-align: top;\n",
       "    }\n",
       "\n",
       "    .dataframe thead th {\n",
       "        text-align: right;\n",
       "    }\n",
       "</style>\n",
       "<table border=\"1\" class=\"dataframe\">\n",
       "  <thead>\n",
       "    <tr style=\"text-align: right;\">\n",
       "      <th></th>\n",
       "      <th>Unnamed: 0</th>\n",
       "      <th>articles</th>\n",
       "      <th>summaries</th>\n",
       "      <th>categories</th>\n",
       "      <th>articles_length</th>\n",
       "      <th>summaries_length</th>\n",
       "    </tr>\n",
       "  </thead>\n",
       "  <tbody>\n",
       "    <tr>\n",
       "      <th>1452</th>\n",
       "      <td>1452</td>\n",
       "      <td>Rap feud in 50 Cent's G-Unit crew US rap star ...</td>\n",
       "      <td>Angels is a great song, but not the best song ...</td>\n",
       "      <td>entertainment</td>\n",
       "      <td>449</td>\n",
       "      <td>1706</td>\n",
       "    </tr>\n",
       "  </tbody>\n",
       "</table>\n",
       "</div>"
      ],
      "text/plain": [
       "      Unnamed: 0                                           articles  \\\n",
       "1452        1452  Rap feud in 50 Cent's G-Unit crew US rap star ...   \n",
       "\n",
       "                                              summaries     categories  \\\n",
       "1452  Angels is a great song, but not the best song ...  entertainment   \n",
       "\n",
       "      articles_length  summaries_length  \n",
       "1452              449              1706  "
      ]
     },
     "execution_count": 43,
     "metadata": {},
     "output_type": "execute_result"
    }
   ],
   "source": []
  }
 ],
 "metadata": {
  "interpreter": {
   "hash": "54d292b6f3ca4ff13f504c55e6e4b729c6c0a14070d37d9d8c8aca786423add6"
  },
  "kernelspec": {
   "display_name": "Python 3.8.10 ('base')",
   "language": "python",
   "name": "python3"
  },
  "language_info": {
   "codemirror_mode": {
    "name": "ipython",
    "version": 3
   },
   "file_extension": ".py",
   "mimetype": "text/x-python",
   "name": "python",
   "nbconvert_exporter": "python",
   "pygments_lexer": "ipython3",
   "version": "3.8.10"
  },
  "orig_nbformat": 4
 },
 "nbformat": 4,
 "nbformat_minor": 2
}
